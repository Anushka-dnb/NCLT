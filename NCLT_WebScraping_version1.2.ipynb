{
 "cells": [
  {
   "cell_type": "code",
   "execution_count": 1,
   "id": "ac27e3da",
   "metadata": {},
   "outputs": [],
   "source": [
    "import selenium\n",
    "from selenium import webdriver\n",
    "from selenium.webdriver import Chrome\n",
    "from selenium.webdriver.chrome.options import Options\n",
    "from selenium.webdriver.common.keys import Keys\n",
    "from selenium.common.exceptions import NoSuchElementException\n",
    "from selenium.webdriver.support.select import Select\n",
    "from selenium.webdriver.chrome.service import Service\n",
    "from selenium.webdriver.common.by import By\n",
    "\n",
    "import pandas as pd\n",
    "import time\n",
    "from time import sleep\n",
    "from datetime import datetime, date, timedelta\n",
    "\n",
    "import os"
   ]
  },
  {
   "cell_type": "code",
   "execution_count": 2,
   "id": "4631b7ff",
   "metadata": {},
   "outputs": [
    {
     "name": "stdout",
     "output_type": "stream",
     "text": [
      "NCLT - 13-12-2022\n",
      "NCLT - 14-12-2022\n",
      "NCLT - 15-12-2022\n",
      "NCLT - 16-12-2022\n",
      "NCLT - 19-12-2022(T-3 Friday)\n",
      "NCLT - 20-12-2022\n",
      "NCLT - 21-12-2022\n",
      "NCLT - 22-12-2022\n",
      "NCLT_Pending.xlsx\n",
      "Test.xlsx\n"
     ]
    }
   ],
   "source": [
    "with os.scandir(r\"C:\\Users\\sawanta\\OneDrive - Dun and Bradstreet\\Desktop\\NCLT\") as entries:\n",
    "    for entry in entries:\n",
    "        print(entry.name)"
   ]
  },
  {
   "cell_type": "code",
   "execution_count": 3,
   "id": "27992653",
   "metadata": {},
   "outputs": [
    {
     "name": "stdout",
     "output_type": "stream",
     "text": [
      "NCLT - 13-12-2022\n",
      "NCLT - 14-12-2022\n",
      "NCLT - 15-12-2022\n",
      "NCLT - 16-12-2022\n",
      "NCLT - 19-12-2022(T-3 Friday)\n",
      "NCLT - 20-12-2022\n",
      "NCLT - 21-12-2022\n",
      "NCLT - 22-12-2022\n",
      "NCLT - 23-12-2022\n",
      "NCLT_Pending.xlsx\n",
      "Test.xlsx\n"
     ]
    }
   ],
   "source": [
    "today = date.today().strftime(\"%d-%m-%Y\")\n",
    "os.makedirs(r\"C:\\Users\\sawanta\\OneDrive - Dun and Bradstreet\\Desktop\\NCLT\\NCLT - \"+today)\n",
    "with os.scandir(r\"C:\\Users\\sawanta\\OneDrive - Dun and Bradstreet\\Desktop\\NCLT\") as entries:\n",
    "    for entry in entries:\n",
    "        print(entry.name)"
   ]
  },
  {
   "cell_type": "code",
   "execution_count": 4,
   "id": "12e32242",
   "metadata": {},
   "outputs": [],
   "source": [
    "optns = webdriver.ChromeOptions()\n",
    "p = {\n",
    "    \"download.default_directory\":r\"C:\\Users\\sawanta\\OneDrive - Dun and Bradstreet\\Desktop\\NCLT\\NCLT - \"+today,\n",
    "    \"download.prompt_for_download\": False, #To auto download the file\n",
    "    \"download.directory_upgrade\": True,\n",
    "    \"plugins.always_open_pdf_externally\": True,\n",
    "    \"plugins.plugins_list\": [{\"enabled\": True, \"name\": \"Chrome PDF Viewer\"}]\n",
    "    }\n",
    "optns.add_experimental_option(\"prefs\", p)\n",
    "s = Service(r\"C:\\Users\\sawanta\\OneDrive - Dun and Bradstreet\\Desktop\\chromedriver.exe\")"
   ]
  },
  {
   "cell_type": "code",
   "execution_count": 5,
   "id": "c274e111",
   "metadata": {},
   "outputs": [
    {
     "data": {
      "text/plain": [
       "['Allahabad Bench Court-I',\n",
       " 'Amaravati Bench Court-I',\n",
       " 'Chennai Bench Court-I',\n",
       " 'Chennai Bench Court-II',\n",
       " 'Hyderabad Bench Court-I',\n",
       " 'Hyderabad Bench Court-II',\n",
       " 'Kochi Bench Court-I',\n",
       " 'Kolkata Bench Court-I',\n",
       " 'Kolkata Bench Court II',\n",
       " 'Mumbai Bench Court-I',\n",
       " 'Mumbai Bench Court-II',\n",
       " 'Mumbai Bench Court-III',\n",
       " 'Mumbai Bench Court-IV',\n",
       " 'Mumbai Bench Court-V',\n",
       " 'New Delhi Bench Court-II',\n",
       " 'New Delhi Bench Court-III',\n",
       " 'New Delhi Bench Court-IV',\n",
       " 'New Delhi Bench Court-V',\n",
       " 'New Delhi Bench Court-VI',\n",
       " 'Principal Bench Court-I',\n",
       " 'Registrar NCLT Court-I']"
      ]
     },
     "execution_count": 5,
     "metadata": {},
     "output_type": "execute_result"
    }
   ],
   "source": [
    "#df = pd.read_excel(r\"C:\\Users\\sawanta\\Downloads\\NCLT.xlsx\") \n",
    "nclt_list = ['Allahabad Bench Court-I',\n",
    "             'Amaravati Bench Court-I',\n",
    "             'Chennai Bench Court-I',\n",
    "             'Chennai Bench Court-II',\n",
    "             'Hyderabad Bench Court-I',\n",
    "             'Hyderabad Bench Court-II',\n",
    "             'Kochi Bench Court-I',\n",
    "             'Kolkata Bench Court-I',\n",
    "             'Kolkata Bench Court II',\n",
    "             'Mumbai Bench Court-I',\n",
    "             'Mumbai Bench Court-II',\n",
    "             'Mumbai Bench Court-III',\n",
    "             'Mumbai Bench Court-IV',\n",
    "             'Mumbai Bench Court-V',\n",
    "             'New Delhi Bench Court-II',\n",
    "             'New Delhi Bench Court-III',\n",
    "             'New Delhi Bench Court-IV',\n",
    "             'New Delhi Bench Court-V',\n",
    "             'New Delhi Bench Court-VI',\n",
    "             'Principal Bench Court-I',\n",
    "             'Registrar NCLT Court-I']\n",
    "#nclt_list = df['NCLT Bench Court'].to_list()\n",
    "#nclt_list = nclt_list[11:14]\n",
    "nclt_list"
   ]
  },
  {
   "cell_type": "code",
   "execution_count": 6,
   "id": "1655622b",
   "metadata": {},
   "outputs": [
    {
     "data": {
      "text/plain": [
       "'12/22/2022'"
      ]
     },
     "execution_count": 6,
     "metadata": {},
     "output_type": "execute_result"
    }
   ],
   "source": [
    "# Defining (Day - 1/ t-1) Date\n",
    "yest = date.today() - timedelta(days=1)\n",
    "yest = yest.strftime(\"%m/%d/%Y\")\n",
    "yest"
   ]
  },
  {
   "cell_type": "code",
   "execution_count": 7,
   "id": "2049985f",
   "metadata": {},
   "outputs": [],
   "source": [
    "no_pdfs_bench  = []\n",
    "exception = []"
   ]
  },
  {
   "cell_type": "code",
   "execution_count": 13,
   "id": "2c5905aa",
   "metadata": {},
   "outputs": [],
   "source": [
    "for i, j in enumerate(nclt_list):\n",
    "    try:\n",
    "        driver = webdriver.Chrome(service=s, options = optns)\n",
    "        driver.get('https://nclt.gov.in/all-couse-list')\n",
    "        time.sleep(3)\n",
    "        nclt = j\n",
    "        #input_name = driver.find_element('xpath','//*[@id=\"edit-field-nclt-benches-list-target-id-shs-0-0\"]')\n",
    "        #input_name.click()\n",
    "        opt = Select(driver.find_element('xpath','//*[@id=\"edit-field-nclt-benches-list-target-id-shs-0-0\"]'))\n",
    "        opt.select_by_visible_text(nclt)\n",
    "        start_date = driver.find_element('xpath','//*[@id=\"edit-field-cause-date-value\"]')\n",
    "        start_date.click()\n",
    "        start_date.send_keys(yest)\n",
    "        end_date = driver.find_element('xpath','//*[@id=\"edit-field-cause-date-value-1\"]')\n",
    "        end_date.click()\n",
    "        end_date.send_keys(yest)\n",
    "        search = driver.find_element('xpath','//*[@id=\"edit-submit-all-couse-list\"]')\n",
    "        search.click()\n",
    "        #pdfs = driver.find_element('xpath','//*[@id=\"block-nclt-content\"]/div/div/div/div[2]/table/tbody/tr/td[4]/span/a')\n",
    "        #pdfs.click()\n",
    "        #time.sleep(5)\n",
    "        #driver.close()\n",
    "        rows = driver.find_elements('xpath', '//*[@id=\"block-nclt-content\"]/div/div/div/div[2]/table/tbody/tr')\n",
    "        for i in range(1, len(rows)+1):\n",
    "            if driver.find_element('xpath', '//*[@id=\"block-nclt-content\"]/div/div/div/div[2]/table/tbody/tr['+str(i)+']/td[4]/span'):\n",
    "                driver.find_element('xpath', '//*[@id=\"block-nclt-content\"]/div/div/div/div[2]/table/tbody/tr['+str(i)+']/td[4]/span').click()\n",
    "                time.sleep(10)\n",
    "            else: \n",
    "                driver.close()\n",
    "        driver.close()\n",
    "    except Exception as e:\n",
    "        no_pdfs_bench.append(j)\n",
    "        str(e)\n",
    "        exception.append(e)\n",
    "        driver.close()"
   ]
  },
  {
   "cell_type": "code",
   "execution_count": 9,
   "id": "3da6f753",
   "metadata": {},
   "outputs": [],
   "source": [
    "string = 'Message: no such element: Unable to locate element:'\n",
    "exception_str = [str(i) for i in exception]\n",
    "exception_error = []\n",
    "for i in exception_str:\n",
    "    if string in i:\n",
    "        i = \"PDF not found.\"\n",
    "        exception_error.append(i)\n",
    "    else:\n",
    "        i = \"Bench not found.\"\n",
    "        exception_error.append(i)"
   ]
  },
  {
   "cell_type": "code",
   "execution_count": 10,
   "id": "cf32abfb",
   "metadata": {},
   "outputs": [
    {
     "name": "stdout",
     "output_type": "stream",
     "text": [
      "         DATE                   Bench          Reason\n",
      "0  23-12-2022  Registrar NCLT Court-I  PDF not found.\n"
     ]
    }
   ],
   "source": [
    "res = {'DATE': today, 'Bench':no_pdfs_bench , 'Reason': exception_error} \n",
    "df = pd.DataFrame(res)\n",
    "with pd.ExcelWriter(r\"C:\\Users\\sawanta\\OneDrive - Dun and Bradstreet\\Desktop\\NCLT\\NCLT_Pending.xlsx\",mode=\"a\",engine=\"openpyxl\",if_sheet_exists=\"overlay\") as writer:\n",
    "    df.to_excel(writer ,header=None, startrow=writer.sheets[\"Sheet1\"].max_row,index=False)\n",
    "    \n",
    "print(df)"
   ]
  },
  {
   "cell_type": "code",
   "execution_count": 11,
   "id": "7ced34b1",
   "metadata": {},
   "outputs": [],
   "source": [
    "with pd.ExcelWriter(r\"C:\\Users\\sawanta\\OneDrive - Dun and Bradstreet\\Desktop\\NCLT\\Test.xlsx\",mode=\"a\",engine=\"openpyxl\",if_sheet_exists=\"replace\") as writer:\n",
    "    df.to_excel(writer , sheet_name = 'Sheet1', header=None, startrow=writer.sheets[\"Sheet1\"].max_row,index=False)"
   ]
  },
  {
   "cell_type": "code",
   "execution_count": 12,
   "id": "65a3a6bb",
   "metadata": {},
   "outputs": [],
   "source": [
    "# For reference purpose\n",
    "# No use in above code\n",
    "nclt_xpath = ['//*[@id=\"edit-field-nclt-benches-list-target-id\"]/option[4]', '//*[@id=\"edit-field-nclt-benches-list-target-id\"]/option[5]', \n",
    "              '//*[@id=\"edit-field-nclt-benches-list-target-id\"]/option[8]' ,'//*[@id=\"edit-field-nclt-benches-list-target-id\"]/option[9]',\n",
    "              '//*[@id=\"edit-field-nclt-benches-list-target-id\"]/option[12]', '//*[@id=\"edit-field-nclt-benches-list-target-id\"]/option[13]',\n",
    "              '//*[@id=\"edit-field-nclt-benches-list-target-id\"]/option[16]', \n",
    "              '//*[@id=\"edit-field-nclt-benches-list-target-id\"]/option[17]','//*[@id=\"edit-field-nclt-benches-list-target-id\"]/option[18]',\n",
    "              '//*[@id=\"edit-field-nclt-benches-list-target-id\"]/option[19]', '//*[@id=\"edit-field-nclt-benches-list-target-id\"]/option[20]',\n",
    "              '//*[@id=\"edit-field-nclt-benches-list-target-id\"]/option[21]', '//*[@id=\"edit-field-nclt-benches-list-target-id\"]/option[22]',\n",
    "              '//*[@id=\"edit-field-nclt-benches-list-target-id\"]/option[24]', '//*[@id=\"edit-field-nclt-benches-list-target-id\"]/option[25]',\n",
    "              '//*[@id=\"edit-field-nclt-benches-list-target-id\"]/option[26]', '//*[@id=\"edit-field-nclt-benches-list-target-id\"]/option[27]',\n",
    "              '//*[@id=\"edit-field-nclt-benches-list-target-id\"]/option[28]',\n",
    "              '//*[@id=\"edit-field-nclt-benches-list-target-id\"]/option[30]', '//*[@id=\"edit-field-nclt-benches-list-target-id\"]/option[30]']\n",
    "options = [4,5,8,9,12,13,16,17,18,19,20,21,22,24,25,26,27,28,30,30]"
   ]
  }
 ],
 "metadata": {
  "kernelspec": {
   "display_name": "Python 3 (ipykernel)",
   "language": "python",
   "name": "python3"
  },
  "language_info": {
   "codemirror_mode": {
    "name": "ipython",
    "version": 3
   },
   "file_extension": ".py",
   "mimetype": "text/x-python",
   "name": "python",
   "nbconvert_exporter": "python",
   "pygments_lexer": "ipython3",
   "version": "3.9.12"
  }
 },
 "nbformat": 4,
 "nbformat_minor": 5
}
